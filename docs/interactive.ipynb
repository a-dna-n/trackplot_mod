{
 "cells": [
  {
   "cell_type": "markdown",
   "id": "54ea758f-a225-4a29-bd82-7f542cd134f7",
   "metadata": {
    "pycharm": {
     "name": "#%% md\n"
    }
   },
   "source": [
    "## Interactivate Usage"
   ]
  },
  {
   "cell_type": "code",
   "execution_count": 4,
   "id": "74c6282e-a1b3-4f46-bc01-073027fdac5f",
   "metadata": {
    "pycharm": {
     "name": "#%%\n"
    }
   },
   "outputs": [],
   "source": [
    "from sashimi.plot import Plot"
   ]
  },
  {
   "cell_type": "markdown",
   "id": "91527764-ee8a-49e7-8054-346fca5504d8",
   "metadata": {
    "pycharm": {
     "name": "#%% md\n"
    }
   },
   "source": [
    "The interactive API could be used as normal functions or calling as process chain.\n",
    "\n",
    "1. init plot"
   ]
  },
  {
   "cell_type": "code",
   "execution_count": 5,
   "id": "1c98e7c5-85a8-47f6-b363-c77370850d64",
   "metadata": {
    "pycharm": {
     "name": "#%%\n"
    }
   },
   "outputs": [],
   "source": [
    "plot = Plot()"
   ]
  },
  {
   "cell_type": "markdown",
   "id": "8831dc5c-e218-458d-8685-f08c1da529fa",
   "metadata": {
    "pycharm": {
     "name": "#%% md\n"
    }
   },
   "source": [
    "2. set reference"
   ]
  },
  {
   "cell_type": "code",
   "execution_count": 6,
   "id": "4e2ca579-3eee-404b-90d4-93c3bcde8d66",
   "metadata": {
    "pycharm": {
     "name": "#%%\n"
    }
   },
   "outputs": [
    {
     "name": "stderr",
     "output_type": "stream",
     "text": [
      "building of index for ../example/example.sorted.gtf.gz failed\n",
      "Guess gtf needs to be sorted\n"
     ]
    },
    {
     "data": {
      "text/plain": [
       "<sashimi.plot.Plot at 0x7f91e1074100>"
      ]
     },
     "execution_count": 6,
     "metadata": {},
     "output_type": "execute_result"
    }
   ],
   "source": [
    "plot.set_reference(\n",
    "    \"../example/example.sorted.gtf.gz\",\n",
    "    add_domain=True,\n",
    "    interval=\"../example/PolyASite.chr1.atlas.clusters.2.0.GRCh38.96.bed.gz\",\n",
    "    interval_label=\"polyA\",\n",
    "    show_gene=True,\n",
    "    color=\"pink\",\n",
    ")"
   ]
  },
  {
   "cell_type": "markdown",
   "id": "7bba60e2-6030-4339-8154-045162d101fa",
   "metadata": {
    "pycharm": {
     "name": "#%% md\n"
    }
   },
   "source": [
    "3. setup plotting parameters"
   ]
  },
  {
   "cell_type": "code",
   "execution_count": 8,
   "id": "9cdc32ad-634f-45d2-9366-fb8151e4c7ce",
   "metadata": {
    "pycharm": {
     "name": "#%%\n"
    }
   },
   "outputs": [
    {
     "name": "stderr",
     "output_type": "stream",
     "text": [
      "building of index for ../example/example.sorted.gtf.gz failed\n",
      "Guess gtf needs to be sorted\n"
     ]
    },
    {
     "data": {
      "text/plain": [
       "<sashimi.plot.Plot at 0x7f91e1074100>"
      ]
     },
     "execution_count": 8,
     "metadata": {},
     "output_type": "execute_result"
    }
   ],
   "source": [
    "plot.set_reference(\n",
    "    \"../example/example.sorted.gtf.gz\",\n",
    "    add_domain=True,\n",
    "    interval=\"../example/PolyASite.chr1.atlas.clusters.2.0.GRCh38.96.bed.gz\",\n",
    "    interval_label=\"polyA\",\n",
    "    show_gene=True,\n",
    "    color=\"pink\",\n",
    ").add_interval(\n",
    "    interval=\"../example/PolyASite.chr1.atlas.clusters.2.0.GRCh38.96.simple.bed.gz\",\n",
    "    interval_label=\"polyAS\"\n",
    ").set_region(\n",
    "    \"chr1\", 1270656, 1284730, \"+\"\n",
    ").add_density(\n",
    "    path=\"../example/bams/1.bam\",\n",
    "    category=\"bam\",\n",
    "    color=\"blue\",\n",
    "    show_side_plot=True,\n",
    ").add_density(\n",
    "    path=\"../example/bws/2.bw\",\n",
    "    category=\"bw\",\n",
    "    color=\"green\"\n",
    ").add_line(\n",
    "    path=\"../example/bams/1.bam\",\n",
    "    category=\"bam\",\n",
    "    group=\"1\",\n",
    "    line_attrs={\"lw\": 3}\n",
    ").add_line(\n",
    "    path=\"../example/bams/2.bam\",\n",
    "    category=\"bam\",\n",
    "    group=\"2\",\n",
    "    color=\"red\",\n",
    "    line_attrs={\"linestyle\": \"dashed\"}\n",
    ").add_heatmap(\n",
    "    path=\"../example/bams/1.bam\",\n",
    "    category=\"bam\",\n",
    "    group=\"1\",\n",
    ").add_heatmap(\n",
    "    path=\"../example/bams/2.bam\",\n",
    "    category=\"bam\",\n",
    "    group=\"1\"\n",
    ").add_igv(\n",
    "    path=\"../example/bams/3.bam\",\n",
    "    features={\n",
    "        \"m6a\": \"ma\",\n",
    "        \"real_strand\": \"rs\",\n",
    "        \"polya\": \"pa\"\n",
    "    },\n",
    "    category=\"igv\",\n",
    "    label=\"igv\"\n",
    ").add_igv(\n",
    "    path=\"../example/SRX9697989.corrected_reads.bed.gz\",\n",
    "    category=\"igv\",\n",
    "    label=\"bed12\"\n",
    ").add_sites(\n",
    "    1270656 + 1000\n",
    ").add_sites(\n",
    "    1270656 + 1000\n",
    ").add_sites(\n",
    "    1270656 + 2000\n",
    ").add_focus(\n",
    "    f\"{1270656 + 2000}-{1270656 + 3000}\"\n",
    ").add_focus(\n",
    "    f\"{1270656 + 5000}-{1270656 + 7000}\"\n",
    ").add_stroke(\n",
    "    f\"{1270656 + 5000}-{1270656 + 7000}:{1270656 + 7200}-{1270656 + 8000}@blue\"\n",
    ").add_stroke(\n",
    "    start=1270656 + 7500,\n",
    "    end=1270656 + 8200,\n",
    "    color=\"green\",\n",
    "    label=\"test\"\n",
    ")"
   ]
  },
  {
   "cell_type": "markdown",
   "id": "22bb6707-6dfd-4baf-8e78-6c8fc828f01c",
   "metadata": {
    "pycharm": {
     "name": "#%% md\n"
    }
   },
   "source": [
    "4. save figures"
   ]
  },
  {
   "cell_type": "code",
   "execution_count": 9,
   "id": "df4131f7-1937-4928-9c33-ffe98cf95dd7",
   "metadata": {
    "pycharm": {
     "name": "#%%\n"
    }
   },
   "outputs": [
    {
     "name": "stderr",
     "output_type": "stream",
     "text": [
      "heatmap require intron_scale = 1\n"
     ]
    },
    {
     "data": {
      "text/plain": [
       "<sashimi.plot.Plot at 0x7f91e1074100>"
      ]
     },
     "execution_count": 9,
     "metadata": {},
     "output_type": "execute_result"
    }
   ],
   "source": [
    "plot.plot(\"test_plot.png\", fig_width=6, fig_height=2, raster=True)"
   ]
  },
  {
   "cell_type": "code",
   "execution_count": null,
   "id": "c08941f6-4509-4339-b00d-a41a09fad361",
   "metadata": {
    "pycharm": {
     "name": "#%%\n"
    }
   },
   "outputs": [],
   "source": []
  }
 ],
 "metadata": {
  "kernelspec": {
   "display_name": "Python 3 (ipykernel)",
   "language": "python",
   "name": "python3"
  },
  "language_info": {
   "codemirror_mode": {
    "name": "ipython",
    "version": 3
   },
   "file_extension": ".py",
   "mimetype": "text/x-python",
   "name": "python",
   "nbconvert_exporter": "python",
   "pygments_lexer": "ipython3",
   "version": "3.9.12"
  }
 },
 "nbformat": 4,
 "nbformat_minor": 5
}