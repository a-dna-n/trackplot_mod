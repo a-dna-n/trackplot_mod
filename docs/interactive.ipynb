{
 "cells": [
  {
   "cell_type": "markdown",
   "id": "54ea758f-a225-4a29-bd82-7f542cd134f7",
   "metadata": {},
   "source": [
    "## Interactive usage\n",
    "\n",
    "This is a tutorial for visualizing datasets in jupyter env. And more detailed explanation of parameters, please check our documentation https://sashimi.readthedocs.io/en/latest/interactive\n",
    "\n"
   ]
  },
  {
   "cell_type": "code",
   "execution_count": 4,
   "id": "74c6282e-a1b3-4f46-bc01-073027fdac5f",
   "metadata": {},
   "outputs": [],
   "source": [
    "from sashimi.plot import Plot"
   ]
  },
  {
   "cell_type": "markdown",
   "id": "91527764-ee8a-49e7-8054-346fca5504d8",
   "metadata": {},
   "source": [
    "The interactive API could be used as normal functions or calling as process chain.\n",
    "\n",
    "Here is an example\n",
    "\n",
    "### 1. init plot\n",
    "\n",
    "First, we create a Plot Object for receiving the datasets and  parameters.\n"
   ]
  },
  {
   "cell_type": "code",
   "execution_count": 5,
   "id": "1c98e7c5-85a8-47f6-b363-c77370850d64",
   "metadata": {},
   "outputs": [],
   "source": [
    "plot = Plot()"
   ]
  },
  {
   "cell_type": "markdown",
   "id": "8831dc5c-e218-458d-8685-f08c1da529fa",
   "metadata": {},
   "source": [
    "### 2. set reference\n",
    "\n",
    "Next, we added the reference file as first track into the plot object. "
   ]
  },
  {
   "cell_type": "code",
   "execution_count": 6,
   "id": "4e2ca579-3eee-404b-90d4-93c3bcde8d66",
   "metadata": {},
   "outputs": [
    {
     "name": "stderr",
     "output_type": "stream",
     "text": [
      "building of index for ../example/example.sorted.gtf.gz failed\n",
      "Guess gtf needs to be sorted\n"
     ]
    },
    {
     "data": {
      "text/plain": [
       "<sashimi.plot.Plot at 0x7f91e1074100>"
      ]
     },
     "execution_count": 6,
     "metadata": {},
     "output_type": "execute_result"
    }
   ],
   "source": [
    "plot.set_reference(\n",
    "    \"../example/example.sorted.gtf.gz\",                                             # path to gtf file\n",
    "    add_domain=True,                                                                # whether add domain information into reference track\n",
    "    interval=\"../example/PolyASite.chr1.atlas.clusters.2.0.GRCh38.96.bed.gz\",       # path to list of interval files in bed format, 1st column is path to file, 2nd column is the label\n",
    "    interval_label=\"polyA\",                                                         # the label of added interval\n",
    "    show_gene=True,                                                                 # show gene id\n",
    "    color=\"pink\"                                                                    # the color of exons\n",
    ")"
   ]
  },
  {
   "cell_type": "markdown",
   "id": "8c17dba3",
   "metadata": {},
   "source": [
    "Here is other parameters in `set_reference`:\n",
    "\n",
    "    - font_size: the size of transcript id, name\n",
    "\n",
    "    - transcripts: the list of name or ids of transcripts to draw\n",
    "\n",
    "    - remove_empty_transcripts: whether to remove transcripts without any exons\n",
    "\n",
    "    - show_gene: whether to show gene name/id\n",
    "\n",
    "    - show_id: show gene id or gene name\n",
    "\n",
    "    - reverse_minus: whether to remove strand of transcripts\n",
    "\n",
    "    - theme: the theme of transcript\n",
    "\n",
    "    - exon_width: the height of exons\n",
    "\n",
    "    - show_exon_id: whether to show exon id\n"
   ]
  },
  {
   "cell_type": "markdown",
   "id": "7bba60e2-6030-4339-8154-045162d101fa",
   "metadata": {},
   "source": [
    "\n",
    "### 3. setup plotting parameters\n"
   ]
  },
  {
   "cell_type": "code",
   "execution_count": 8,
   "id": "9cdc32ad-634f-45d2-9366-fb8151e4c7ce",
   "metadata": {},
   "outputs": [
    {
     "name": "stderr",
     "output_type": "stream",
     "text": [
      "building of index for ../example/example.sorted.gtf.gz failed\n",
      "Guess gtf needs to be sorted\n"
     ]
    },
    {
     "data": {
      "text/plain": [
       "<sashimi.plot.Plot at 0x7f91e1074100>"
      ]
     },
     "execution_count": 8,
     "metadata": {},
     "output_type": "execute_result"
    }
   ],
   "source": [
    "plot.add_interval(\n",
    "    interval=\"../example/PolyASite.chr1.atlas.clusters.2.0.GRCh38.96.simple.bed.gz\",          # path to list of interval files in bed format, 1st column is path to file, 2nd column is the label\n",
    "    interval_label=\"polyAS\"                                                                   # the label of added interval\n",
    ").set_region(\n",
    "    chromosome=\"chr1\", start=1270656, end=1284730, strand=\"+\"                                 # chromosome, start site, end site and strand were required\n",
    ")\n"
   ]
  },
  {
   "cell_type": "code",
   "execution_count": null,
   "id": "a1fe501e",
   "metadata": {},
   "outputs": [],
   "source": [
    "plot.add_density(\n",
    "    path=\"../example/bams/1.bam\",                                                             # path to input file\n",
    "    category=\"bam\",                                                                           # the category of given file\n",
    "    color=\"blue\",                                                                             # color of this density\n",
    "    show_site_plot=True,                                                                      # whether to show site plot\n",
    ").add_density(                                                                                # another density plot\n",
    "    path=\"../example/bws/2.bw\",\n",
    "    category=\"bw\",\n",
    "    color=\"green\"\n",
    ").add_line(\n",
    "    path=\"../example/bams/1.bam\",                                                             # path to input file\n",
    "    category=\"bam\",                                                                           # the category of given file\n",
    "    group=\"1\",                                                                                # the group of this line, used to control color etc.\n",
    "    color=\"blue\",                                                                             # color of this line and other lines belong to group 1\n",
    "    line_attrs={\"lw\": 3}                                                                      # additional parameters in dict to control the layout of line\n",
    ").add_line(                                                                                   # another line\n",
    "    path=\"../example/bams/2.bam\",\n",
    "    category=\"bam\",\n",
    "    group=\"2\",\n",
    "    color=\"red\",\n",
    "    line_attrs={\"linestyle\": \"dashed\"}                                                        # additional parameters in dict to control the layout of line, for instance this changes the line style\n",
    ").add_heatmap(\n",
    "    path=\"../example/bams/1.bam\",                                                             # path to input file\n",
    "    category=\"bam\",                                                                           # the category of given file\n",
    "    group=\"1\",                                                                                # the group of this file, only files belong to same group will be drawn in same heatmap.\n",
    ").add_heatmap(                                                                                # another file to heatmap 1\n",
    "    path=\"../example/bams/2.bam\",\n",
    "    category=\"bam\",\n",
    "    group=\"1\"\n",
    ").add_igv(\n",
    "    path=\"../example/bams/3.bam\",                                                             # path to input file\n",
    "    features={\n",
    "        \"m6a\": \"ma\",\n",
    "        \"real_strand\": \"rs\",\n",
    "        \"polya\": \"pa\"\n",
    "    },\n",
    "    category=\"igv\",                                                                           # the category of given file\n",
    "    label=\"igv\"                                                                               # the label of this plot\n",
    ").add_igv(\n",
    "    path=\"../example/SRX9697989.corrected_reads.bed.gz\",\n",
    "    category=\"igv\",\n",
    "    label=\"bed12\"\n",
    ").add_sites(\n",
    "    1270656 + 1000                                                                            # the highlight site\n",
    ").add_sites(\n",
    "    1270656 + 1000                                                                            # the repeat highlight site will show in different color with normal highlight site\n",
    ").add_sites(\n",
    "    1270656 + 2000\n",
    ").add_focus(\n",
    "    f\"{1270656 + 2000}-{1270656 + 3000}\"                                                      # the focus region in start_site-end_site format\n",
    ").add_focus(\n",
    "    f\"{1270656 + 5000}-{1270656 + 7000}\"\n",
    ").add_stroke(\n",
    "    f\"{1270656 + 5000}-{1270656 + 7000}:{1270656 + 7200}-{1270656 + 8000}@blue\"               # the stroke in start_site-end_site:start_site-end_site@color format, this will add 2 strokes and the last on will be blue\n",
    ").add_stroke(                                                                                 # add stroke with named parameters\n",
    "    start=1270656 + 7500,                                                                     # the start site of added stroke\n",
    "    end=1270656 + 8200,                                                                       # the end site of added stroke\n",
    "    color=\"green\",                                                                            # the color of added stroke\n",
    "    label=\"test\"                                                                              # the label of added stroke\n",
    ")"
   ]
  },
  {
   "cell_type": "markdown",
   "id": "22bb6707-6dfd-4baf-8e78-6c8fc828f01c",
   "metadata": {},
   "source": [
    "4. save figures"
   ]
  },
  {
   "cell_type": "code",
   "execution_count": 9,
   "id": "df4131f7-1937-4928-9c33-ffe98cf95dd7",
   "metadata": {},
   "outputs": [
    {
     "name": "stderr",
     "output_type": "stream",
     "text": [
      "heatmap require intron_scale = 1\n"
     ]
    },
    {
     "data": {
      "text/plain": [
       "<sashimi.plot.Plot at 0x7f91e1074100>"
      ]
     },
     "execution_count": 9,
     "metadata": {},
     "output_type": "execute_result"
    }
   ],
   "source": [
    "plot.plot(\"test_plot.png\", fig_width=6, fig_height=2, raster=True)\n",
    "# save plot into test_plot.png, with given fig width and height, the raster=True, will reduce layers in pdf or svg format"
   ]
  },
  {
   "cell_type": "markdown",
   "id": "24937306",
   "metadata": {},
   "source": []
  }
 ],
 "metadata": {
  "kernelspec": {
   "display_name": "Python 3",
   "language": "python",
   "name": "python3"
  },
  "language_info": {
   "codemirror_mode": {
    "name": "ipython",
    "version": 3
   },
   "file_extension": ".py",
   "mimetype": "text/x-python",
   "name": "python",
   "nbconvert_exporter": "python",
   "pygments_lexer": "ipython3",
   "version": "3.8.13"
  }
 },
 "nbformat": 4,
 "nbformat_minor": 5
}